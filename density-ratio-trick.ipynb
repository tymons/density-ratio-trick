{
 "cells": [
  {
   "cell_type": "markdown",
   "source": [
    "# Density Ratio Trick\n",
    "### (Trik Ilorazu Funkcji Gęstości Prawdopodobieństwa)\n",
    "\n",
    "work based on Louis Tiao article: https://tiao.io/post/density-ratio-estimation-for-kl-divergence-minimization-between-implicit-distributions/\n",
    "\n",
    "---\n",
    "\n",
    "Density Ratio Trick to technika określająca podobieństwo pomiędzy dwiema funkcjami gęstości prawdopodobieństwa\n",
    "(estymuje ich iloraz). Używana jest przy wyliczaniu wartości Dywergencji Kullbacka-Leiblera będącego miarą podobieństwa dwóch rozkładów.\n",
    "\n",
    "W prostym i akademickim przypadku mamy do dyspozycji dwie funkcje gęstości prawdopodobieństwa opisane\n",
    "równaniami. Policzenie ich ilorazu nie jest problemem. Możemy naiwnie wyliczyć ich stosunek, przechodząc po każdym punkcie X lub skorzystać\n",
    "ze wzorów, jeśli wiemy, że rozkłady są Gaussowskie i znamy ich wariancję i średnią.\n",
    "Zadanie jest utrudnione w przypadku gdy nie dysponujemy postacią analityczną rozkładu a jedynie próbkami (samplami) z tego rozkładu.\n",
    "W takiej sytuacji często niemożliwe jest wyznaczenie analitycznej formy pierwotnego rozkładu.\n",
    "\n",
    "Zacznijmy jednak od początku, czyli sytuacji, w której dwa rozkłady są określone funkcjami. Ich iloraz może zostać wyznaczony\n",
    "bez większych problemów."
   ],
   "metadata": {
    "collapsed": false,
    "pycharm": {
     "name": "#%% md\n"
    }
   }
  },
  {
   "cell_type": "code",
   "execution_count": 378,
   "metadata": {
    "collapsed": true,
    "pycharm": {
     "name": "#%%\n"
    }
   },
   "outputs": [
    {
     "data": {
      "text/plain": "<Figure size 432x288 with 1 Axes>",
      "image/png": "[encoded data removed]"
     },
     "metadata": {
      "needs_background": "light"
     },
     "output_type": "display_data"
    }
   ],
   "source": [
    "import torch\n",
    "import matplotlib.pyplot as plt\n",
    "\n",
    "from torch.distributions import normal\n",
    "\n",
    "def log_density_ratio(p, q):\n",
    "    def log_ratio(point):\n",
    "        return p.log_prob(point) - q.log_prob(point)\n",
    "\n",
    "    return log_ratio\n",
    "\n",
    "def density_ratio(p, q):\n",
    "    log_ratio = log_density_ratio(p, q)\n",
    "\n",
    "    def ratio(point):\n",
    "        return torch.exp(log_ratio(point))\n",
    "\n",
    "    return ratio\n",
    "\n",
    "def get_discrete_distribution_values(p, xp):\n",
    "    values = torch.exp(p.log_prob(xp))\n",
    "    values = torch.div(values, torch.sum(values))\n",
    "\n",
    "    return values\n",
    "\n",
    "# define two probability density distributions\n",
    "mu1, std1 = torch.tensor(1.0), torch.tensor(1.0)\n",
    "mu2, std2 = torch.tensor(0.0), torch.tensor(2.0)\n",
    "p_real = normal.Normal(mu1, std1)\n",
    "q_real = normal.Normal(mu2, std2)\n",
    "\n",
    "# calculate their ratios for given space X\n",
    "x = torch.linspace(-5, 5, 10000)\n",
    "ratio = density_ratio(p_real, q_real)(x)\n",
    "\n",
    "# and plot results\n",
    "plt.figure()\n",
    "plt.plot(x, torch.exp(p_real.log_prob(x)), c='r', label='real p(x)')\n",
    "plt.plot(x, torch.exp(q_real.log_prob(x)), c='b', label='real q(x)')\n",
    "plt.plot(x, ratio, c='k', linestyle='--', label='real p(q)/q(x)')\n",
    "plt.legend()\n",
    "plt.grid()\n",
    "plt.ylim(0, 2.5)\n",
    "plt.xlim(-5.5, 5.5)\n",
    "plt.show()"
   ]
  },
  {
   "cell_type": "markdown",
   "source": [
    "Docelowa wartość Dywergencji KL (miara podobieństwa rozkładów) również może zostać obliczona na wiele różnych sposobów:"
   ],
   "metadata": {
    "collapsed": false,
    "pycharm": {
     "name": "#%% md\n"
    }
   }
  },
  {
   "cell_type": "code",
   "execution_count": 379,
   "outputs": [
    {
     "name": "stdout",
     "output_type": "stream",
     "text": [
      "pytorch kl-divergence (0.443147)\n",
      "gaussians' based analytical kl-divergence (0.443147)\n",
      "plot divergence based on integral calculation: (0.430858)\n",
      "monte carlo kl divergence estimation: (0.438970)\n"
     ]
    }
   ],
   "source": [
    "from torch.distributions import kl_divergence\n",
    "\n",
    "mc_no_samples = 50000\n",
    "xp_mc_samples = p_real.sample((mc_no_samples,))\n",
    "\n",
    "p_values = get_discrete_distribution_values(p_real, x)\n",
    "q_values = get_discrete_distribution_values(q_real, x)\n",
    "plot_div = torch.dot(p_values, torch.log(torch.div(p_values, q_values)))\n",
    "real_div = kl_divergence(p_real, q_real)\n",
    "gauss_div = torch.log(std2) - torch.log(std1) - (1 / 2 * (1 - (((std1**2)+((mu1-mu2)**2)) / std2 ** 2)))\n",
    "monte_carlo = torch.mean(torch.log(torch.exp(p_real.log_prob(xp_mc_samples))/torch.exp(q_real.log_prob(xp_mc_samples))))\n",
    "\n",
    "print(f\"pytorch kl-divergence ({real_div:.6f})\")\n",
    "print(f\"gaussians' based analytical kl-divergence ({gauss_div:.6f})\")\n",
    "print(f\"plot divergence based on integral calculation: ({plot_div:.6f})\")\n",
    "print(f\"monte carlo kl divergence estimation: ({monte_carlo:.6f})\")"
   ],
   "metadata": {
    "collapsed": false,
    "pycharm": {
     "name": "#%%\n"
    }
   }
  },
  {
   "cell_type": "markdown",
   "source": [
    "Wyliczanie KL i porównywanie dwóch dystrybucji komplikuje się w momencie, gdy nie są one jawnie podane.\n",
    "Współczynnik KL jest dany równaniem (przybliżenie metodą monte carlo):\n",
    "\n",
    "<img src=\n",
    "\"https://render.githubusercontent.com/render/math?math=%5Ctextstyle+%5Cbegin%7Balign%2A%7D%0ADL_%7Bkl%7D%5Cbigg%5Bp%28x%29%7C%7Cq%28x%29%5Cbigg%5D%3D%5Cmathbb%7BE%7D_%7Bp%28x%29%7D%5B%5Clog%7Br%5E%7B%2A%7D%28x%29%7D%5D%3D%5Cfrac%7B1%7D%7BM%7D%5Csum_%7Bi%3D1%7D%5E%7BM%7D%5Clog%7Br%5E%7B%2A%7D%28x_%7Bp%7D%5E%7Bi%7D%7D%29%0A%5Cend%7Balign%2A%7D%0A\"\n",
    "alt=\"\\begin{align*}\n",
    "DL_{kl}\\bigg[p(x)||q(x)\\bigg]=\\mathbb{E}_{p(x)}[\\log{r^{*}(x)}]=\\frac{1}{M}\\sum_{i=1}^{M}\\log{r^{*}(x_{p}^{i}})\n",
    "\\end{align*}\n",
    "\">\n",
    "\n",
    "Aby wyliczyć wartość KL metodą Monte Carlo, jednocześnie nie znając analitycznej formy rozkładów p(x) i q(x) estymuje się wartość <img src=\"https://render.githubusercontent.com/render/math?math=r^{*}=\\frac{p(x)}{q(x)}\">\n",
    "z użyciem optymalnego klasyfikatora probabilistycznego. W modelu tym wyjściem jest prawdopodobieństw przynależności do klasy p(x).\n",
    "\n",
    "Ale czy że rzeczywiście istnieje związek pomiędzy wyjściem klasyfikatora a r*(x)?\n",
    "\n",
    "Mając zbalansowany dataset <img src=\"https://render.githubusercontent.com/render/math?math=X={\\{x_{p_1}, ..., x_{p_i}, x_{q_1}, ..., x_{q_i}\\}}\"> ze\n",
    "zbiorem etykiet <img src=\"https://render.githubusercontent.com/render/math?math=Y={\\{1, ..., 1, 0, ..., 0\\}}\"> dowodzimy, że:\n",
    "\n",
    "<img src=\n",
    "\"https://render.githubusercontent.com/render/math?math=%5Ctextstyle+%5Cbegin%7Balign%2A%7D%0Ar%5E%7B%2A%7D%3D%5Cfrac%7Bp%28x%29%7D%7Bq%28x%29%7D%3D%5Cfrac%7BP%28x%7Cy%3D1%29%7D%7BP%28x%7Cy%3D0%29%7D%3D%0A%5Cbig%28%5Cfrac%7BP%28y%3D1%7Cx%29p%28x%29%7D%7Bp%28y%3D1%29%7D%5Cbig%29%5Cbig%28%5Cfrac%7BP%28y%3D0%7Cx%29p%28x%29%7D%7Bp%28y%3D0%29%7D%5Cbig%29%5E%7B-1%7D%3D%0A%5Cfrac%7BP%28y%3D0%29%7D%7BP%28y%3D1%29%7D%5Cbig%28%5Cfrac%7BP%28y%3D1%7Cx%29%7D%7BP%28y%3D0%7Cx%29%7D%5Cbig%29%3D%5Cfrac%7BP%28y%3D1%7Cx%29%7D%7BP%28y%3D0%7Cx%29%7D%0A%5Cend%7Balign%2A%7D%0A\"\n",
    "alt=\"\\begin{align*}\n",
    "r^{*}=\\frac{p(x)}{q(x)}=\\frac{P(x|y=1)}{P(x|y=0)}=\n",
    "\\big(\\frac{P(y=1|x)p(x)}{p(y=1)}\\big)\\big(\\frac{P(y=0|x)p(x)}{p(y=0)}\\big)^{-1}=\n",
    "\\frac{P(y=0)}{P(y=1)}\\big(\\frac{P(y=1|x)}{P(y=0|x)}\\big)=\\frac{P(y=1|x)}{P(y=0|x)}\n",
    "\\end{align*}\n",
    "\">\n",
    "\n",
    "Użyto twierdzenia Bayesa <img src=\"https://render.githubusercontent.com/render/math?math=P(y|x)=\\frac{P(x|y)P(y)}{P(x)}\"> w trzecim rozwinięciu i założono, że zbiór danych jest zbalansowany, tj. jest tyle samo sampli z\n",
    "p(x) co z q(x).\n"
   ],
   "metadata": {
    "collapsed": false,
    "pycharm": {
     "name": "#%% md\n"
    }
   }
  },
  {
   "cell_type": "code",
   "execution_count": 250,
   "outputs": [
    {
     "data": {
      "text/plain": "<Figure size 432x288 with 1 Axes>",
      "image/png": "[encoded data removed]"
     },
     "metadata": {
      "needs_background": "light"
     },
     "output_type": "display_data"
    }
   ],
   "source": [
    "p_samples = p_real.sample((200,))\n",
    "q_samples = q_real.sample((200,))\n",
    "\n",
    "plt.scatter(p_samples, [1]*len(p_samples), c='b', marker='x', alpha=0.3)\n",
    "plt.scatter(q_samples, [0]*len(q_samples), c='r', marker='o', alpha=0.3)\n",
    "plt.grid()\n",
    "plt.show()"
   ],
   "metadata": {
    "collapsed": false,
    "pycharm": {
     "name": "#%%\n"
    }
   }
  },
  {
   "cell_type": "markdown",
   "source": [
    "Wiemy, że:\n",
    "\n",
    "<img src=\n",
    "\"https://render.githubusercontent.com/render/math?math=%5Ctextstyle+%5Cbegin%7Balign%2A%7D%0Ar%5E%7B%2A%7D%3D%5Cfrac%7Bp%28x%29%7D%7Bq%28x%29%7D%3D%5Cfrac%7BP%28y%3D1%7Cx%29%7D%7BP%28y%3D0%7Cx%29%7D%0A%3D%5Cfrac%7BP%28y%3D1%7Cx%29%7D%7B1-P%28y%3D1%7Cx%29%7D%0A%5Cend%7Balign%2A%7D%0A\"\n",
    "alt=\"\\begin{align*}\n",
    "r^{*}=\\frac{p(x)}{q(x)}=\\frac{P(y=1|x)}{P(y=0|x)}\n",
    "=\\frac{P(y=1|x)}{1-P(y=1|x)}\n",
    "\\end{align*}\n",
    "\">\n",
    "\n",
    ", zatem iloraz dwóch dystrybucji jest proporcjonalny do prawdopodobieństwa, że wylosowany\n",
    " x pochodzi z rozkładu p(x).\n",
    "\n",
    ">Dysponując analityczną formą p(x) i q(x) możemy wyznaczyć rozkład P(y=1|x) stosując kilka przekształceń:\n",
    ">\n",
    "> <img src=\"https://render.githubusercontent.com/render/math?math=%5Ctextstyle+%5Cbegin%7Balign%2A%7D%0Ar%5E%7B%2A%7D%3D%5Cfrac%7Bp%28x%29%7D%7Bq%28x%29%7D%3D%5Cfrac%7BP%28y%3D1%7Cx%29%7D%7BP%28y%3D0%7Cx%29%7D%0A%3D%5Cfrac%7BP%28y%3D1%7Cx%29%7D%7B1-P%28y%3D1%7Cx%29%7D%3Dexp%5Cbig%28log%5Cbig%5B%5Cfrac%7BP%28y%3D1%7Cx%29%7D%7B1-P%28y%3D1%7Cx%29%7D%5Cbig%5D%5Cbig%29%3Dexp%5Cbig%28%5Csigma%5E%7B-1%7D%5Cbig%28P%28y%3D1%7Cx%29%5Cbig%29%5Cbig%29%0A%5Cend%7Balign%2A%7D%0A\"\n",
    "alt=\"\\begin{align*}r^{*}=\\frac{p(x)}{q(x)}=\\frac{P(y=1|x)}{P(y=0|x)}=\\frac{P(y=1|x)}{1-P(y=1|x)}=exp\\big(log\\big[\\frac{P(y=1|x)}{1-P(y=1|x)}\\big]\\big)=exp\\big(\\sigma^{-1}\\big(P(y=1|x)\\big)\\big)\n",
    "\\end{align*}\">\n",
    ">\n",
    "> dochodzimy do formy, która zawiera funkcję logitową pozwalającą nam dalej dowieść następującą własność:\n",
    ">\n",
    ">\n",
    "> <img src=\"https://render.githubusercontent.com/render/math?math=\\frac{p(x)}{p(x)%2bq(x)}=P(y=1|x)\">\n",
    ">\n",
    "> zatem prawdopodobieństwo, że wylosujemy samplę pochodzącą z p(x) (co jest podstawą estymacji ilorazu dwóch rozkładów r*(x))\n",
    "> może zostać przedstawione za pomocą p(x) i q(x) co jest w zasadzie intuicyjne.\n",
    "\n",
    "Idealny klasyfikator jest postaci: <img src=\"https://render.githubusercontent.com/render/math?math=\\frac{p(x)}{p(x)%2bq(x)}\">\n",
    "i można go zatem wyrysować na wykresie:"
   ],
   "metadata": {
    "collapsed": false,
    "pycharm": {
     "name": "#%% md\n"
    }
   }
  },
  {
   "cell_type": "code",
   "execution_count": 276,
   "outputs": [
    {
     "data": {
      "text/plain": "<Figure size 432x288 with 1 Axes>",
      "image/png": "[encoded data removed]"
     },
     "metadata": {
      "needs_background": "light"
     },
     "output_type": "display_data"
    }
   ],
   "source": [
    "optim_classifier_vals = torch.exp(p_real.log_prob(x)) / (torch.exp(p_real.log_prob(x)) + torch.exp(q_real.log_prob(x)))\n",
    "\n",
    "plt.scatter(p_samples, [1]*len(p_samples), c='b', marker='x', alpha=0.3)\n",
    "plt.scatter(q_samples, [0]*len(q_samples), c='r', marker='o', alpha=0.3)\n",
    "plt.plot(x, optim_classifier_vals, 'k--', label='optim classifier')\n",
    "plt.grid()\n",
    "plt.show()"
   ],
   "metadata": {
    "collapsed": false,
    "pycharm": {
     "name": "#%%\n"
    }
   }
  },
  {
   "cell_type": "markdown",
   "source": [
    "Czyli chodzi nam o to aby zaproksymować tą funkcję, że użyciem dostępnych danych. Tutaj wchodzi probabilistyczny klasyfikator, którego\n",
    "wyjściem będą wartości z przedziału [0,1]."
   ],
   "metadata": {
    "collapsed": false,
    "pycharm": {
     "name": "#%% md\n"
    }
   }
  },
  {
   "cell_type": "code",
   "execution_count": 371,
   "outputs": [
    {
     "name": "stdout",
     "output_type": "stream",
     "text": [
      "epoch idx(0) with avg loss: 0.6170182228088379\n",
      "epoch idx(10) with avg loss: 0.5693414807319641\n",
      "epoch idx(20) with avg loss: 0.567088782787323\n",
      "epoch idx(30) with avg loss: 0.5665121674537659\n",
      "epoch idx(40) with avg loss: 0.5659489035606384\n",
      "epoch idx(50) with avg loss: 0.5660762190818787\n",
      "epoch idx(60) with avg loss: 0.5657651424407959\n",
      "epoch idx(70) with avg loss: 0.5659133195877075\n",
      "epoch idx(80) with avg loss: 0.5659292936325073\n",
      "epoch idx(90) with avg loss: 0.5658190250396729\n"
     ]
    }
   ],
   "source": [
    "from torch import nn\n",
    "from datetime import datetime\n",
    "import torch.nn.functional as F\n",
    "from torch.utils.data import TensorDataset, DataLoader\n",
    "from torch.optim import RMSprop\n",
    "from pathlib import Path\n",
    "\n",
    "\n",
    "class ProbabilisticClassifier(nn.Module):\n",
    "    def __init__(self):\n",
    "        super().__init__()\n",
    "        self.fc1 = nn.Linear(1, 32)  # input x of shape (1,)\n",
    "        self.fc2 = nn.Linear(32, 64)\n",
    "        self.fc3 = nn.Linear(64, 1)\n",
    "\n",
    "    def forward(self, input_x):\n",
    "        output_y = F.relu(self.fc1(input_x))\n",
    "        output_y = F.relu(self.fc2(output_y))\n",
    "        return torch.sigmoid(self.fc3(output_y))\n",
    "\n",
    "\n",
    "p_samples_classification = p_real.sample((10000,))\n",
    "q_samples_classification = q_real.sample((10000,))\n",
    "\n",
    "data = torch.hstack((p_samples_classification, q_samples_classification))\n",
    "y = torch.hstack((torch.ones_like(p_samples_classification),\n",
    "                                         torch.zeros_like(q_samples_classification)))\n",
    "\n",
    "output_folder = Path('.', 'output', f'{datetime.now().strftime(\"%d-%m-%Y-%H-%M-%S\")}')\n",
    "output_folder.mkdir(parents=True, exist_ok=True)\n",
    "\n",
    "# First attempt using classic NN-based classifier\n",
    "dataset = TensorDataset(data, y)\n",
    "dataloader = DataLoader(dataset, batch_size=64, shuffle=True, drop_last=True)\n",
    "model = ProbabilisticClassifier()\n",
    "optimizer = RMSprop(model.parameters(), lr=0.0001)\n",
    "criterion = nn.BCELoss()\n",
    "\n",
    "for epoch in range(100):\n",
    "    losses = 0\n",
    "    for batch, labels in dataloader:\n",
    "        optimizer.zero_grad()\n",
    "        output = model(batch.unsqueeze(1))\n",
    "        minibatch_loss = criterion(output.squeeze(), labels)\n",
    "        minibatch_loss.backward()\n",
    "        optimizer.step()\n",
    "        losses += minibatch_loss\n",
    "\n",
    "    with torch.no_grad():\n",
    "        predictions = (model(x.unsqueeze(1)).squeeze())\n",
    "        fig, axs = plt.subplots(1, 2, figsize=(12, 4))\n",
    "        axs[1].plot(x, optim_classifier_vals, 'k--', label='P(y=1|x)')\n",
    "        axs[1].plot(x, predictions, 'r:', alpha=0.8, label='estimated')\n",
    "        axs[1].grid()\n",
    "        axs[0].plot(x, ratio, 'k--', label='real p(q)/q(x)')\n",
    "        axs[0].plot(x, torch.exp(torch.logit(predictions)), 'r:', label='estimated')\n",
    "        axs[0].legend(loc='upper left')\n",
    "        axs[0].grid()\n",
    "        plt.savefig(output_folder / f'{epoch}.png')\n",
    "        plt.close(fig)\n",
    "\n",
    "    if epoch % 10 == 0:\n",
    "        print(f'epoch idx({epoch}) with avg loss: {losses/len(dataloader)}')"
   ],
   "metadata": {
    "collapsed": false,
    "pycharm": {
     "name": "#%%\n"
    }
   }
  },
  {
   "cell_type": "markdown",
   "source": [
    "W końcu możemy wyestymować wartość KL z założeniem, że nie znamy p(x) ani q(x) a dysponujemy tylko samplami\n",
    "z p(x)."
   ],
   "metadata": {
    "collapsed": false,
    "pycharm": {
     "name": "#%% md\n"
    }
   }
  },
  {
   "cell_type": "code",
   "execution_count": 383,
   "outputs": [
    {
     "name": "stdout",
     "output_type": "stream",
     "text": [
      "estimated monte carlo kl divergence: 0.4271441400051117\n"
     ]
    }
   ],
   "source": [
    "with torch.no_grad():\n",
    "    monte_carlo_c = torch.mean(torch.log(torch.exp(torch.logit(model(xp_mc_samples.unsqueeze(1))))))\n",
    "    print(f'estimated monte carlo kl divergence: {monte_carlo_c}')\n"
   ],
   "metadata": {
    "collapsed": false,
    "pycharm": {
     "name": "#%%\n"
    }
   }
  }
 ],
 "metadata": {
  "kernelspec": {
   "name": "pycharm-8e6839ef",
   "language": "python",
   "display_name": "PyCharm (buzz-based-anomaly)"
  },
  "language_info": {
   "codemirror_mode": {
    "name": "ipython",
    "version": 2
   },
   "file_extension": ".py",
   "mimetype": "text/x-python",
   "name": "python",
   "nbconvert_exporter": "python",
   "pygments_lexer": "ipython2",
   "version": "2.7.6"
  }
 },
 "nbformat": 4,
 "nbformat_minor": 0
}