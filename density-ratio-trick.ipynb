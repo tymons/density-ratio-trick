{
 "cells": [
  {
   "cell_type": "markdown",
   "source": [
    "## Density Ratio Trick\n",
    "\n",
    "Technika określająca podobnieństwo pomiędzy dwoma dystrybucjami a dokładniej ich ilorazem. Używana\n",
    "przy wyliczaniu Dywergencji Kullbacka-Leiblera będącą miarą podobieństwa dwóch rozkładów.\n",
    "\n",
    "\n",
    "W prostym i akademickim przypadku mamy do dyspozycji dwie funkcje gęstości prawdopodobonieństwa opisane\n",
    "równaniami. Policzenie ich ilorazu nie jest problemem."
   ],
   "metadata": {
    "collapsed": false,
    "pycharm": {
     "name": "#%% md\n"
    }
   }
  },
  {
   "cell_type": "code",
   "execution_count": 233,
   "metadata": {
    "collapsed": true,
    "pycharm": {
     "name": "#%%\n"
    }
   },
   "outputs": [
    {
     "data": {
      "text/plain": "<Figure size 432x288 with 1 Axes>",
      "image/png": "[encoded data removed]"
     },
     "metadata": {
      "needs_background": "light"
     },
     "output_type": "display_data"
    }
   ],
   "source": [
    "import torch\n",
    "import matplotlib.pyplot as plt\n",
    "\n",
    "from torch.distributions import normal\n",
    "\n",
    "def log_density_ratio(p, q):\n",
    "    def log_ratio(point):\n",
    "        return p.log_prob(point) - q.log_prob(point)\n",
    "\n",
    "    return log_ratio\n",
    "\n",
    "def density_ratio(p, q):\n",
    "    log_ratio = log_density_ratio(p, q)\n",
    "\n",
    "    def ratio(point):\n",
    "        return torch.exp(log_ratio(point))\n",
    "\n",
    "    return ratio\n",
    "\n",
    "def get_distribution_values(p, xp):\n",
    "    values = torch.exp(p.log_prob(xp))\n",
    "    values = torch.div(values, torch.sum(values))\n",
    "\n",
    "    return values\n",
    "\n",
    "mu1, std1 = torch.tensor(1.0), torch.tensor(1.0)\n",
    "mu2, std2 = torch.tensor(0.0), torch.tensor(2.0)\n",
    "p_real = normal.Normal(mu1, std1)\n",
    "q_real = normal.Normal(mu2, std2)\n",
    "x = torch.linspace(-5, 5, 10000)\n",
    "\n",
    "ratio = density_ratio(p_real, q_real)(x)\n",
    "\n",
    "plt.figure()\n",
    "plt.plot(x, torch.exp(p_real.log_prob(x)), c='r', label='real p(x)')\n",
    "plt.plot(x, torch.exp(q_real.log_prob(x)), c='b', label='real q(x)')\n",
    "plt.plot(x, ratio, c='k', linestyle='--', label='real p(q)/q(x)')\n",
    "plt.legend()\n",
    "plt.grid()\n",
    "plt.ylim(0, 2.5)\n",
    "plt.xlim(-5.5, 5.5)\n",
    "plt.show()"
   ]
  },
  {
   "cell_type": "code",
   "execution_count": 247,
   "outputs": [
    {
     "name": "stdout",
     "output_type": "stream",
     "text": [
      "pytorch divergence (0.443147)\n",
      "gaussians' divergence (0.443147)\n",
      "plot divergence: (0.430858)\n",
      "monte carlo: (0.444290)\n"
     ]
    }
   ],
   "source": [
    "from torch.distributions import kl_divergence\n",
    "\n",
    "mc_no_samples = 50000\n",
    "xp_mc_samples = p_real.sample((mc_no_samples,))\n",
    "\n",
    "p_values = get_distribution_values(p_real, x)\n",
    "q_values = get_distribution_values(q_real, x)\n",
    "plot_div = torch.dot(p_values, torch.log(torch.div(p_values, q_values)))\n",
    "real_div = kl_divergence(p_real, q_real)\n",
    "gauss_div = torch.log(std2) - torch.log(std1) - (1 / 2 * (1 - (((std1**2)+((mu1-mu2)**2)) / std2 ** 2)))\n",
    "monte_carlo = torch.mean(torch.log(torch.exp(p_real.log_prob(xp_mc_samples))/torch.exp(q_real.log_prob(xp_mc_samples))))\n",
    "\n",
    "print(f\"pytorch kl-divergence ({real_div:.6f})\")\n",
    "print(f\"gaussians' based analytical kl-divergence ({gauss_div:.6f})\")\n",
    "print(f\"plot divergence based on integral calculation: ({plot_div:.6f})\")\n",
    "print(f\"monte carlo kl divergence estimation: ({monte_carlo:.6f})\")"
   ],
   "metadata": {
    "collapsed": false,
    "pycharm": {
     "name": "#%%\n"
    }
   }
  },
  {
   "cell_type": "code",
   "execution_count": null,
   "outputs": [],
   "source": [],
   "metadata": {
    "collapsed": false,
    "pycharm": {
     "name": "#%%\n"
    }
   }
  }
 ],
 "metadata": {
  "kernelspec": {
   "name": "pycharm-8e6839ef",
   "language": "python",
   "display_name": "PyCharm (buzz-based-anomaly)"
  },
  "language_info": {
   "codemirror_mode": {
    "name": "ipython",
    "version": 2
   },
   "file_extension": ".py",
   "mimetype": "text/x-python",
   "name": "python",
   "nbconvert_exporter": "python",
   "pygments_lexer": "ipython2",
   "version": "2.7.6"
  }
 },
 "nbformat": 4,
 "nbformat_minor": 0
}
